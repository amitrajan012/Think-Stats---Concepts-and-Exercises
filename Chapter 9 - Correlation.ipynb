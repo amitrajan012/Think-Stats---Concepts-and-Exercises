{
 "cells": [
  {
   "cell_type": "code",
   "execution_count": 1,
   "metadata": {},
   "outputs": [
    {
     "data": {
      "text/html": [
       "\n",
       "<style>\n",
       "div.text_cell_render { /* Customize text cells */\n",
       "font-family: 'Times New Roman';\n",
       "font-size:1.3em;\n",
       "line-height:1.4em;\n",
       "padding-left:1.5em;\n",
       "padding-right:1.5em;\n",
       "}\n",
       "</style>\n"
      ],
      "text/plain": [
       "<IPython.core.display.HTML object>"
      ]
     },
     "execution_count": 1,
     "metadata": {},
     "output_type": "execute_result"
    }
   ],
   "source": [
    "from IPython.core.display import HTML\n",
    "HTML(\"\"\"\n",
    "<style>\n",
    "div.text_cell_render { /* Customize text cells */\n",
    "font-family: 'Times New Roman';\n",
    "font-size:1.3em;\n",
    "line-height:1.4em;\n",
    "padding-left:1.5em;\n",
    "padding-right:1.5em;\n",
    "}\n",
    "</style>\n",
    "\"\"\")"
   ]
  },
  {
   "cell_type": "markdown",
   "metadata": {},
   "source": [
    "### 9.1 Standard scores "
   ]
  },
  {
   "cell_type": "markdown",
   "metadata": {},
   "source": [
    "The main challenge in measuring correlation is that the variables we want to compare might not be expressed in the same units. There are two common solutions to this problem:\n",
    "\n",
    " - Transform all values to <b>standard scores</b>. This leads to <b>Pearson coefficient of correlation</b>.\n",
    " - Transform all values to their <b>percentile ranks</b>. This leads to <b>Spearman coefficient</b>.\n",
    "\n",
    "<b>Normalizing</b> the score means subtracting mean from every value and dividing it by standard deviation.\n",
    "\n",
    "$$z_i = \\frac{(x_i - \\mu)}{\\sigma}$$\n",
    "\n",
    "If X is skewed, distribution Z will be skewed as well. In that case it is more apt to use percentile ranks as they will always be uniformly distributed between 0 and 100."
   ]
  },
  {
   "cell_type": "markdown",
   "metadata": {},
   "source": [
    "### 9.2 Covariance"
   ]
  },
  {
   "cell_type": "markdown",
   "metadata": {},
   "source": [
    "<b>Covariance</b> is a measure of the tendeny of two variables to vary together. For two series X and Y, the covariance is given as:\n",
    "\n",
    "$$Cov(X, Y) = \\frac{1}{n}\\sum (x_i - \\mu_X)(y_i - \\mu_Y)$$\n",
    "\n",
    "where n is the length of the two series (they have to be of same length). When X and Y are same, Cov(X, X) = Var(X)."
   ]
  },
  {
   "cell_type": "markdown",
   "metadata": {},
   "source": [
    "### 9.3 Correlation"
   ]
  },
  {
   "cell_type": "markdown",
   "metadata": {},
   "source": [
    "When Covariance is divided by standard deviations, we get a more standard notion for the measure of the tendency of two variables to vary together.\n",
    "\n",
    "$$\\rho = \\frac{1}{n} \\sum \\frac{(x_i - \\mu_X)(y_i - \\mu_Y)}{\\sigma_X \\sigma_Y} = \\frac{Cov(X, Y)}{\\sigma_X \\sigma_Y}$$\n",
    "\n",
    "This value is called <b>Pearson's Correlation</b> coefficient. Pearson'e correlation coefficient is always between -1 and 1 inclusive. For $\\rho = 1$, values are perfectly correlated and for $\\rho = -1$, values are negatively correlated but for the purpose of prediction, negative correlation is just as good as positive one. Pearson'e correlation only measures <b>linear</b> relationship. If there is non-linear relationship, $\\rho$ understates the strength of the dependence and hence one should always look at the scatterplot of the data before computing the correlation coefficient."
   ]
  },
  {
   "cell_type": "markdown",
   "metadata": {},
   "source": [
    "### 9.5 Spearman’s rank correlation"
   ]
  },
  {
   "cell_type": "markdown",
   "metadata": {},
   "source": [
    "<b>Pearson’s correlation</b> works well if the relationship between variables is linear and if the variables are roughly normal. But it is not robust in the presence of outliers. <b>Spearman's rank correlation</b> is an alternative that mitigates the effect of outliers and skewed distributions. To compute Spearman's correlation, we need to compute the rank of each variable, which is the index of the sorted sample and then we compute Pearson's correlation of the ranks.\n",
    "\n",
    "An alternate of the Spearman's correleation is to apply a transform tha makes the data more nearly normal and then compute Pearson's coefficient. For example if the data is lognormal, we can take the log making the data normal and then compute the correlation of log values."
   ]
  },
  {
   "cell_type": "markdown",
   "metadata": {},
   "source": [
    "### 9.6 Least squares fit"
   ]
  },
  {
   "cell_type": "markdown",
   "metadata": {},
   "source": [
    "Correlation coefficient measures the strength and sign of a relationship. They do not measure the slope. The most common way to estimate the slope is a <b>linear least squares fit</b>. A linear least squares fit is a line that models the relationship between variables and minimizes the mean squared error(MSE) between the line and the data.\n",
    "\n",
    "Suppose we have a sequence of points Y that we want to express as a function of another sequence X. Let this relationship is expressed such that the prediction of $y_i$ is $\\alpha + \\beta x_i$. Then the <b>deviation</b> or <b>residual</b> is:\n",
    "\n",
    "$$\\epsilon_i = (\\alpha + \\beta x_i) - y_i$$\n",
    "\n",
    "and then we can minimize the sum of squared residuals:\n",
    "\n",
    "$$min(\\alpha, \\beta) \\sum \\epsilon_i^2$$\n",
    "\n",
    "There are certain advantage of minimizing the squared residuals, such as:\n",
    "\n",
    " - Squaring treats negative and positive residual the same.\n",
    " - It gives more weight to large residuals.\n",
    " - The value of $\\alpha$ and $\\beta$ can be computed efficiently.\n",
    " \n",
    "The least square fit can be given as:\n",
    "\n",
    "$$\\beta = \\frac{Cov(X, Y)}{Var(X)}, \\ \\ \\ \\ \\alpha = \\bar{y} - \\beta \\bar{x} $$\n",
    "\n",
    "where $\\bar{y}$ and $\\bar{x}$ are sample means."
   ]
  },
  {
   "cell_type": "markdown",
   "metadata": {},
   "source": [
    "### 9.7 Goodness of fit"
   ]
  },
  {
   "cell_type": "markdown",
   "metadata": {},
   "source": [
    "In the context of prediction, the quantity we are trying to guess is called as the <b>dependent variable</b> and the one used to make the guess is called the <b>explanatory</b> or <b>independent variable</b>. The <b>predictive power</b> of a model can be measured by <b>coefficient if determination</b> (also called as <b>R-squared</b>), which is given as:\n",
    "\n",
    "$$R^2 = 1 - \\frac{Var(\\epsilon)}{Var(Y)}$$\n",
    "\n",
    "A plausible explanation of $R^2$ is that suppose we have to guess Y and we don't have any information, our best guess will be the mean $\\bar{y}$ ane hence the MSE will be:\n",
    "\n",
    "$$MSE = \\frac{1}{n} \\sum{\\bar{y} - y_i}^2 = Var(Y)$$\n",
    "\n",
    "But when we know about the relation between X and Y, our guess will be $\\alpha + \\beta x_i$. In this case the MSE will be ($\\epsilon$ has a normal distribution with $\\mu = 0$):\n",
    "\n",
    "$$MSE = \\frac{1}{n} \\sum{\\alpha + \\beta x_i - y_i}^2 = Var(\\epsilon)$$\n",
    "\n",
    "Hence the term, Var($\\epsilon$)/Var(Y) is the ratio of MSE with and without the explanatory variable, which is the fraction of variability which is unexplained by the model and hence it's complement is the fraction of variability explained.\n",
    "\n",
    "In a <b>linear least square model</b>, <b>coefficient of determination</b> and <b>Pearson's correlation coefficient</b> $\\rho$ is related as:\n",
    "\n",
    "$$R^2 = \\rho^2$$"
   ]
  },
  {
   "cell_type": "markdown",
   "metadata": {},
   "source": [
    "### 9.8 Correlation and Causation"
   ]
  },
  {
   "cell_type": "markdown",
   "metadata": {},
   "source": [
    "Correlation does not imply causation."
   ]
  }
 ],
 "metadata": {
  "kernelspec": {
   "display_name": "Python 3",
   "language": "python",
   "name": "python3"
  },
  "language_info": {
   "codemirror_mode": {
    "name": "ipython",
    "version": 3
   },
   "file_extension": ".py",
   "mimetype": "text/x-python",
   "name": "python",
   "nbconvert_exporter": "python",
   "pygments_lexer": "ipython3",
   "version": "3.6.4"
  }
 },
 "nbformat": 4,
 "nbformat_minor": 2
}
