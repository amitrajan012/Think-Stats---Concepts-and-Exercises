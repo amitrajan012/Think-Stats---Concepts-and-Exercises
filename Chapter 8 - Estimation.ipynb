{
 "cells": [
  {
   "cell_type": "code",
   "execution_count": 1,
   "metadata": {},
   "outputs": [],
   "source": [
    "from IPython.core.display import HTML\n",
    "HTML(\"\"\"\n",
    "<style>\n",
    "div.text_cell_render { /* Customize text cells */\n",
    "font-family: 'Times New Roman';\n",
    "font-size:1.3em;\n",
    "line-height:1.4em;\n",
    "padding-left:1.5em;\n",
    "padding-right:1.5em;\n",
    "}\n",
    "</style>\n",
    "\"\"\")"
   ]
  },
  {
   "cell_type": "markdown",
   "metadata": {},
   "source": [
    "### 8.1 The estimation game"
   ]
  },
  {
   "cell_type": "markdown",
   "metadata": {},
   "source": [
    "In a rudimentary way, <b>sample mean</b> can be used to estimate a distribution. The process is called <b>estimation</b> and the statistic we used (sample mean) is called an <b>estimator</b>. If there are no <b>outliers</b>, sample mean minimizes the <b>mean squared error (MSE)</b>. A <b>maximum likelihood estimator (MLE)</b> is an estimator that has the highest chance of being right (value with highest probability). \n",
    "\n",
    "<b>Exercise 8.1:</b> Write a function that draws 6 values froma normal distribution with $\\mu$ = 0 and $\\sigma$ = 1. Use the sample mean to estimate m and compute the error $\\bar{x} - \\mu$. Run the function 1000 times and compute MSE.\n",
    "\n",
    "Now modify the program to use the median as an estimator. Compute MSE again and compare to the MSE for $\\bar{x}$.\n",
    "\n",
    "<b>Solution:</b> MSE for mean as the estimator is less."
   ]
  },
  {
   "cell_type": "code",
   "execution_count": 2,
   "metadata": {},
   "outputs": [
    {
     "name": "stdout",
     "output_type": "stream",
     "text": [
      "MSE when maen is the estimator is: 0.16503949703743645\n",
      "MSE when madian is the estimator is: 0.20949112657014224\n"
     ]
    }
   ],
   "source": [
    "from scipy.stats import norm\n",
    "import numpy as np\n",
    "\n",
    "norm = norm(loc=0, scale=1)\n",
    "count = 1000\n",
    "MSE_mean = 0\n",
    "MSE_median = 0\n",
    "for i in range(0, count):\n",
    "    rvs = norm.rvs(size=6)\n",
    "    sample_mean = rvs.mean()\n",
    "    sample_median = np.median(rvs)\n",
    "    MSE_mean += (sample_mean**2)\n",
    "    MSE_median += (sample_median**2)\n",
    "\n",
    "print(\"MSE when maen is the estimator is: \" +str(MSE_mean/count))\n",
    "print(\"MSE when madian is the estimator is: \" +str(MSE_median/count))"
   ]
  },
  {
   "cell_type": "markdown",
   "metadata": {},
   "source": [
    "### 8.2 Guess the variance"
   ]
  },
  {
   "cell_type": "markdown",
   "metadata": {},
   "source": [
    "For the estimation of variance of a distribution, sample variance which is defined as follows is an adequate estimator for large sample size. \n",
    "\n",
    "$$S^{2} = \\frac{1}{n}\\sum(x_{i} - \\bar{x})^{2}$$\n",
    "\n",
    "But for small sample sizes, it tends to be low and is called a <b>biased estimator</b>. An estimator is <b>unbiased</b> if the expected total (or mean) error, after many iterations of the estimation is 0. There is another simple statistic that is an unbiased estimator of $\\sigma^{2}$, which is given as:\n",
    "\n",
    "$$S^{2}_{n-1} = \\frac{1}{n-1}\\sum(x_{i} - \\bar{x})^{2}$$\n",
    "\n",
    "<b>Exercise 8.2:</b> Write a function that draws 6 values froma normal distribution with $\\mu$ = 0 and $\\sigma$ = 1. Use the sample variance to estimate s2 and compute the error $S^{2} - \\sigma^{2}$. Run the function 1000 times and compute mean error (not squared).\n",
    "\n",
    "Now modify the program to use the unbiased estimator $S^{2}_{n-1}$. Compute the mean error again and see if it converges to zero as you increase the number of games."
   ]
  },
  {
   "cell_type": "code",
   "execution_count": 3,
   "metadata": {},
   "outputs": [
    {
     "name": "stdout",
     "output_type": "stream",
     "text": [
      "Mean error for biased estimator of variance: 0.034980760578752344\n",
      "Mean error for unbiased estimator of variance: 0.034968783350441\n"
     ]
    }
   ],
   "source": [
    "from scipy.stats import norm\n",
    "import numpy as np\n",
    "\n",
    "norm = norm(loc=0, scale=1)\n",
    "count = 1000\n",
    "mean_error_S = 0\n",
    "mean_error_S_n1 = 0\n",
    "sample_size = 1000\n",
    "\n",
    "for i in range(count):\n",
    "    rvs = norm.rvs(size=sample_size)\n",
    "    sample_mean = rvs.mean()\n",
    "    sample_variance = np.sum(np.square(rvs - sample_mean))\n",
    "    mean_error_S += abs((sample_variance) / (sample_size) - 1.0)\n",
    "    mean_error_S_n1 += abs((sample_variance) / (sample_size-1) - 1.0)\n",
    "\n",
    "print(\"Mean error for biased estimator of variance: \" +str(mean_error_S/count))\n",
    "print(\"Mean error for unbiased estimator of variance: \" +str(mean_error_S_n1/count))"
   ]
  },
  {
   "cell_type": "markdown",
   "metadata": {},
   "source": [
    "### 8.4 Exponential distributions"
   ]
  },
  {
   "cell_type": "markdown",
   "metadata": {},
   "source": [
    "For an exponential distribution, the <b>MLE estimator</b> for the parameter $\\lambda$ is 1\\ $\\bar{x}$, where $\\bar{x}$ is the mean. An alternate is the estimation based on median. As for an exponential distribution, median is given as:\n",
    "\n",
    "$$\\mu_{\\frac{1}{2}} = \\frac{ln(2)}{\\lambda}$$\n",
    "\n",
    "and hence the estimator based on median is:\n",
    "\n",
    "$$\\bar{\\lambda} = \\frac{ln(2)}{\\mu_{\\frac{1}{2}}}$$\n",
    "\n",
    "<b>Exercise 8.3:</b> Run an experiment to see which of mean and median estimator yields lower MSE. Test whether either of them is biased."
   ]
  },
  {
   "cell_type": "code",
   "execution_count": 6,
   "metadata": {},
   "outputs": [
    {
     "data": {
      "image/png": "[encoded data removed]",
      "text/plain": [
       "<Figure size 720x576 with 1 Axes>"
      ]
     },
     "metadata": {},
     "output_type": "display_data"
    }
   ],
   "source": [
    "from scipy.stats import expon\n",
    "import numpy as np\n",
    "import math\n",
    "import matplotlib.pylab as plt\n",
    "\n",
    "expon = expon(loc=0, scale=1) # lambda = 1\n",
    "count = 1000\n",
    "samples = [5, 10, 20, 40, 50, 100, 100]\n",
    "error_mean = {}\n",
    "error_median = {}\n",
    "\n",
    "for sample_size in (samples):\n",
    "    e_mean = 0\n",
    "    e_median = 0\n",
    "    for i in range(0, count):\n",
    "        rvs = expon.rvs(size=sample_size)\n",
    "        sample_mean = rvs.mean()\n",
    "        sampel_median = np.median(rvs)\n",
    "        lamba_mean = 1/sample_mean\n",
    "        lambda_median = math.log(2)/sample_median\n",
    "        e_mean += (lamba_mean - 1.0)**2\n",
    "        e_median += (lambda_median - 1.0)**2\n",
    "    error_mean[sample_size] = e_mean / count\n",
    "    error_median[sample_size] = e_median / count\n",
    "\n",
    "fig = plt.figure(figsize=(10,8))\n",
    "l1 = sorted(error_mean.items()) # sorted by key, return a list of tuples\n",
    "x, y = zip(*l1) # unpack a list of pairs into two tuples\n",
    "\n",
    "plt.plot(x, y, color=\"r\", marker=\"o\", label=\"MSE (mean)\")\n",
    "plt.xlabel(\"Number of Samples\")\n",
    "plt.ylabel(\"MSE\")\n",
    "plt.legend(loc=\"best\")\n",
    "plt.show()"
   ]
  },
  {
   "cell_type": "markdown",
   "metadata": {},
   "source": [
    "### 8.5 Confidence intervals"
   ]
  },
  {
   "cell_type": "markdown",
   "metadata": {},
   "source": [
    "So far we have been doing <b>point estimates</b>. <b>Confidenc Intervals</b> is a range in which there is certain percent of chance of the value estimated to lie in. In general, confidence intervals are hard to compute analytically but relatively easy to estimate using simulation."
   ]
  },
  {
   "cell_type": "markdown",
   "metadata": {},
   "source": [
    "### 8.6 Bayesian estimation "
   ]
  },
  {
   "cell_type": "markdown",
   "metadata": {},
   "source": [
    "If a 90% confidence interval is computed, it can be said that the true value of the parameter has a 90% chance of falling in the interval. But from a frequentist point if view, the parameter is an unknown but fixed value and hence it is either in the interval we computed or not."
   ]
  },
  {
   "cell_type": "markdown",
   "metadata": {},
   "source": [
    "### 8.7 Implementing Bayesian estimation"
   ]
  },
  {
   "cell_type": "markdown",
   "metadata": {},
   "source": [
    "Prior distribution can be represented by PMF or CDF but PMF is a natural choice as we want to map from a hypothesis to a probability. Each value in PMF represents a hypothesis; for example, the value 0.5 represents that $\\lambda$ is 0.5. \n",
    "\n",
    "Bayesian estimation can be explained as a case: there is a room full of people, where each person has a different guess about whatever we are trying to estimate. Initially, each person has a degree of confidence about their own hypothesis. After seeing the evidence, each person updates their confidence based on P(E|H), the likelihood of the evidence, given their hypothesis. As a result, some people get more confident and some less about their guess depending on the relative likelihood of their hypothesis.\n",
    "\n",
    "<b>Exercise 8.5:</b> In the 2008 Minnesota Senate race the final vote count was 1,212,629 votes for Al Franken and 1,212,317 votes for Norm Coleman. Franken was declared the winner, but as Charles Seife points out in Proofiness, the margin of victory was much smaller than the margin of error, so the result should have been considered a tie.\n",
    "\n",
    "Assuming that there is a chance that any vote might be lost and a chance that any vote might be double-counted, what is the probability that Coleman actually received more votes?\n",
    "\n",
    "<b>Solution:</b> We choose to model the votes as Poisson distributions."
   ]
  },
  {
   "cell_type": "code",
   "execution_count": 5,
   "metadata": {},
   "outputs": [
    {
     "name": "stdout",
     "output_type": "stream",
     "text": [
      "Probability of Coleman getting more votes is: 0.405\n"
     ]
    }
   ],
   "source": [
    "from scipy.stats import poisson\n",
    "\n",
    "franken_dist = poisson.rvs(1212629, size=1000)\n",
    "coleman_dist = poisson.rvs(1212317, size=1000)\n",
    "\n",
    "count = 0\n",
    "for i in range(0, 1000):\n",
    "    if franken_dist[i] < coleman_dist[i]:\n",
    "        count += 1\n",
    "print(\"Probability of Coleman getting more votes is: \" + str(count/1000))"
   ]
  },
  {
   "cell_type": "markdown",
   "metadata": {},
   "source": [
    "### 8.9 The locomotive problem"
   ]
  },
  {
   "cell_type": "markdown",
   "metadata": {},
   "source": [
    "The locomotive problem is a classic problem in probability. The statement is:\n",
    "\n",
    "A railraod number its locomotive in order 1..N. One day you see a locomotive with the number 60. Estimate how many locomotives the railroad has.\n",
    "\n",
    "Suppose that there are N trains and every time we play the estimation game, we see train $i$ and guess $ai$, so the squared error is $(ai-N)^{2}$. If we play the game N times and see each train once, the mean squared error is\n",
    "\n",
    "$$MSE = \\frac{1}{N}\\sum_{i=1}^{N}(ai-N)^{2}$$\n",
    "\n",
    "To minimize the MSE, we take the derivative with respect to a:\n",
    "\n",
    "$$\\frac{dMSE}{da} = \\frac{1}{N}\\sum_{i=1}^{N}2i(ai-N) = 0$$\n",
    "\n",
    "Solving for a we get,\n",
    "\n",
    "$$a = \\frac{3N}{2N+1}$$\n",
    "\n",
    "It does not seem very useful as for the estimation, we need to know N, which we have to estimate. Though, for large value of N, the value of a converges to 3/2 and we could choose 3i/2 as the estimator.\n",
    "\n",
    "To find an unbiased estimator, we can compute the mean error(ME) as:\n",
    "\n",
    "$$ME = \\frac{1}{N}\\sum_{i=1}^{N}(ai-N)$$\n",
    "\n",
    "and find the value of a that yeilds ME=0, which turn out to be\n",
    "\n",
    "$$a = \\frac{2N}{N+1}$$\n",
    "\n",
    "which converges to 2 for large value of N, maming 2i as the estimator.\n",
    "\n",
    "Hence, the three generated estimators are $i$ for <b>maximizing likelihood</b>, $3i/2$ for <b>minimizing squared error </b> and $2i$ as the <b>unbiased estimator</b>. Finally to compute the Bayesian posterior distribution, we compute\n",
    "\n",
    "$$P(H_{n}|i) = \\frac{P(i|H_{n}) P(H_{n})}{P(i)}$$\n",
    "\n",
    "where $H_n$ is the hypothesis that there are $n$ trains and $i$ is the evidence that we saw train $i$. $P(i| H_n)$ is 1\\n. The normalizing constant P(i) is just the sum of the numerators for each hypothesis."
   ]
  }
 ],
 "metadata": {
  "kernelspec": {
   "display_name": "Python 3",
   "language": "python",
   "name": "python3"
  },
  "language_info": {
   "codemirror_mode": {
    "name": "ipython",
    "version": 3
   },
   "file_extension": ".py",
   "mimetype": "text/x-python",
   "name": "python",
   "nbconvert_exporter": "python",
   "pygments_lexer": "ipython3",
   "version": "3.6.4"
  }
 },
 "nbformat": 4,
 "nbformat_minor": 2
}
