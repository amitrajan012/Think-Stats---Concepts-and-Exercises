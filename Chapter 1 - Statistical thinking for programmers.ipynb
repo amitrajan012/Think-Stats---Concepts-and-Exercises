{
 "cells": [
  {
   "cell_type": "code",
   "execution_count": 1,
   "metadata": {},
   "outputs": [
    {
     "data": {
      "text/html": [
       "\n",
       "<style>\n",
       "div.text_cell_render { /* Customize text cells */\n",
       "font-family: 'Times New Roman';\n",
       "font-size:1.3em;\n",
       "line-height:1.4em;\n",
       "padding-left:1.5em;\n",
       "padding-right:1.5em;\n",
       "}\n",
       "</style>\n"
      ],
      "text/plain": [
       "<IPython.core.display.HTML object>"
      ]
     },
     "execution_count": 1,
     "metadata": {},
     "output_type": "execute_result"
    }
   ],
   "source": [
    "from IPython.core.display import HTML\n",
    "HTML(\"\"\"\n",
    "<style>\n",
    "div.text_cell_render { /* Customize text cells */\n",
    "font-family: 'Times New Roman';\n",
    "font-size:1.3em;\n",
    "line-height:1.4em;\n",
    "padding-left:1.5em;\n",
    "padding-right:1.5em;\n",
    "}\n",
    "</style>\n",
    "\"\"\")"
   ]
  },
  {
   "cell_type": "markdown",
   "metadata": {},
   "source": [
    "### 1.1 Do first babies arrive late?"
   ]
  },
  {
   "cell_type": "markdown",
   "metadata": {},
   "source": [
    "<b>Anecdotal Evidence </b> is based on data that is unpublished and usually personal. For example,\n",
    "<i><center>\"My two friends that have given birth recently to their first babies,\n",
    "BOTH went almost 2 weeks overdue before going into\n",
    "labour or being induced.” </center></i>\n",
    "Anecdotal Evidence usually fail because of <b>Small number of observations</b>, <b>Selection bias</b> (People who join a discussion of this question might be interested because their first babies were late.), <b>Confirmation bias</b> (People who believe the claim might be more likely to contribute examples that confirm it) and <b>Inaccuracy</b>.\n",
    "\n"
   ]
  },
  {
   "cell_type": "markdown",
   "metadata": {},
   "source": [
    "### 1.2 A Statistical Approach"
   ]
  },
  {
   "cell_type": "markdown",
   "metadata": {},
   "source": [
    "Limitations of Anecdotal Evidence can be addressed by using the tools of statistics, which include <b>Data Collection</b>, <b>Descriptive Statistics</b>, <b>Exploratory Data Analysis</b>, <b>Hypothesis Testing</b> and <b>Estimation</b>."
   ]
  },
  {
   "cell_type": "markdown",
   "metadata": {},
   "source": [
    "### 1.3 The National Survey of Family Growth (NSFG)"
   ]
  },
  {
   "cell_type": "markdown",
   "metadata": {},
   "source": [
    "NSFG is a <b>cross-sectional</b> study (it captures a snapshot of a group at a point in time). The alternative is a <b>longitudinal</b> study which observes a group repeatedly over a period of time. The people who participate in a survey are called <b>respondents</b>. Cross-sectional studies are meant to be <b>representative</b>, which means that every member of the target population has an equal chance of participating. NSFG is deliberately <b>oversampled</b> as certain groups are sampled at higher rates compared to their representation in US population. Drawback of oversampling is that it is hard to arrive at a conclusion based on statistics from the survey.\n",
    "<br><br>\n",
    "<b>Exercise 1.2</b> Download data from the NSFG:"
   ]
  },
  {
   "cell_type": "code",
   "execution_count": 2,
   "metadata": {},
   "outputs": [
    {
     "data": {
      "text/html": [
       "<div>\n",
       "<style scoped>\n",
       "    .dataframe tbody tr th:only-of-type {\n",
       "        vertical-align: middle;\n",
       "    }\n",
       "\n",
       "    .dataframe tbody tr th {\n",
       "        vertical-align: top;\n",
       "    }\n",
       "\n",
       "    .dataframe thead th {\n",
       "        text-align: right;\n",
       "    }\n",
       "</style>\n",
       "<table border=\"1\" class=\"dataframe\">\n",
       "  <thead>\n",
       "    <tr style=\"text-align: right;\">\n",
       "      <th></th>\n",
       "      <th>caseid</th>\n",
       "      <th>nbrnaliv</th>\n",
       "      <th>babysex</th>\n",
       "      <th>birthwgt_lb</th>\n",
       "      <th>birthwgt_oz</th>\n",
       "      <th>prglength</th>\n",
       "      <th>outcome</th>\n",
       "      <th>birthord</th>\n",
       "      <th>agepreg</th>\n",
       "      <th>finalwgt</th>\n",
       "    </tr>\n",
       "  </thead>\n",
       "  <tbody>\n",
       "    <tr>\n",
       "      <th>0</th>\n",
       "      <td>1</td>\n",
       "      <td>1.0</td>\n",
       "      <td>1.0</td>\n",
       "      <td>8.0</td>\n",
       "      <td>81.0</td>\n",
       "      <td>39</td>\n",
       "      <td>1</td>\n",
       "      <td>1.0</td>\n",
       "      <td>33.0</td>\n",
       "      <td>6448.271112</td>\n",
       "    </tr>\n",
       "    <tr>\n",
       "      <th>1</th>\n",
       "      <td>1</td>\n",
       "      <td>1.0</td>\n",
       "      <td>2.0</td>\n",
       "      <td>7.0</td>\n",
       "      <td>71.0</td>\n",
       "      <td>39</td>\n",
       "      <td>1</td>\n",
       "      <td>2.0</td>\n",
       "      <td>39.0</td>\n",
       "      <td>6448.271112</td>\n",
       "    </tr>\n",
       "    <tr>\n",
       "      <th>2</th>\n",
       "      <td>2</td>\n",
       "      <td>3.0</td>\n",
       "      <td>1.0</td>\n",
       "      <td>9.0</td>\n",
       "      <td>9.0</td>\n",
       "      <td>39</td>\n",
       "      <td>1</td>\n",
       "      <td>1.0</td>\n",
       "      <td>14.0</td>\n",
       "      <td>12999.542264</td>\n",
       "    </tr>\n",
       "    <tr>\n",
       "      <th>3</th>\n",
       "      <td>2</td>\n",
       "      <td>1.0</td>\n",
       "      <td>2.0</td>\n",
       "      <td>7.0</td>\n",
       "      <td>7.0</td>\n",
       "      <td>39</td>\n",
       "      <td>1</td>\n",
       "      <td>2.0</td>\n",
       "      <td>17.0</td>\n",
       "      <td>12999.542264</td>\n",
       "    </tr>\n",
       "    <tr>\n",
       "      <th>4</th>\n",
       "      <td>2</td>\n",
       "      <td>1.0</td>\n",
       "      <td>2.0</td>\n",
       "      <td>6.0</td>\n",
       "      <td>6.0</td>\n",
       "      <td>39</td>\n",
       "      <td>1</td>\n",
       "      <td>3.0</td>\n",
       "      <td>18.0</td>\n",
       "      <td>12999.542264</td>\n",
       "    </tr>\n",
       "  </tbody>\n",
       "</table>\n",
       "</div>"
      ],
      "text/plain": [
       "   caseid  nbrnaliv  babysex  birthwgt_lb  birthwgt_oz  prglength  outcome  \\\n",
       "0       1       1.0      1.0          8.0         81.0         39        1   \n",
       "1       1       1.0      2.0          7.0         71.0         39        1   \n",
       "2       2       3.0      1.0          9.0          9.0         39        1   \n",
       "3       2       1.0      2.0          7.0          7.0         39        1   \n",
       "4       2       1.0      2.0          6.0          6.0         39        1   \n",
       "\n",
       "   birthord  agepreg      finalwgt  \n",
       "0       1.0     33.0   6448.271112  \n",
       "1       2.0     39.0   6448.271112  \n",
       "2       1.0     14.0  12999.542264  \n",
       "3       2.0     17.0  12999.542264  \n",
       "4       3.0     18.0  12999.542264  "
      ]
     },
     "execution_count": 2,
     "metadata": {},
     "output_type": "execute_result"
    }
   ],
   "source": [
    "import pandas as pd\n",
    "# Reference to extract the columns: http://greenteapress.com/thinkstats/survey.py\n",
    "pregnancies = pd.read_fwf(\"2002FemPreg.dat\", \n",
    "                         names=[\"caseid\", \"nbrnaliv\", \"babysex\", \"birthwgt_lb\",\n",
    "                               \"birthwgt_oz\", \"prglength\", \"outcome\", \"birthord\",\n",
    "                               \"agepreg\", \"finalwgt\"],\n",
    "                         colspecs=[(0, 12), (21, 22), (55, 56), (57, 58), (57, 59),\n",
    "                                (274, 276), (276, 277), (278, 279), (283, 285), (422, 439)])\n",
    "pregnancies.head()"
   ]
  },
  {
   "cell_type": "markdown",
   "metadata": {},
   "source": [
    "The description for the fields are as follows:"
   ]
  },
  {
   "cell_type": "markdown",
   "metadata": {},
   "source": [
    "| caseid | prglength | outcome | birthord | finalwgt\n",
    "| --- | --- | --- | --- | --- |\n",
    "| Integer ID of Respondent | Integer Duration of pregnancy in weeks | 1 indicates a live birth | code for first child: 1 | Number of people in US population this respondant represents"
   ]
  },
  {
   "cell_type": "markdown",
   "metadata": {},
   "source": [
    "<b>Exercise 1.3</b> Explore the data in the Pregnancies table. Count the number of live births and compute the average pregnancy length (in weeks) for first babies and others for the live births."
   ]
  },
  {
   "cell_type": "code",
   "execution_count": 3,
   "metadata": {},
   "outputs": [
    {
     "data": {
      "text/html": [
       "<div>\n",
       "<style scoped>\n",
       "    .dataframe tbody tr th:only-of-type {\n",
       "        vertical-align: middle;\n",
       "    }\n",
       "\n",
       "    .dataframe tbody tr th {\n",
       "        vertical-align: top;\n",
       "    }\n",
       "\n",
       "    .dataframe thead th {\n",
       "        text-align: right;\n",
       "    }\n",
       "</style>\n",
       "<table border=\"1\" class=\"dataframe\">\n",
       "  <thead>\n",
       "    <tr style=\"text-align: right;\">\n",
       "      <th></th>\n",
       "      <th>caseid</th>\n",
       "      <th>nbrnaliv</th>\n",
       "      <th>babysex</th>\n",
       "      <th>birthwgt_lb</th>\n",
       "      <th>birthwgt_oz</th>\n",
       "      <th>prglength</th>\n",
       "      <th>outcome</th>\n",
       "      <th>birthord</th>\n",
       "      <th>agepreg</th>\n",
       "      <th>finalwgt</th>\n",
       "    </tr>\n",
       "  </thead>\n",
       "  <tbody>\n",
       "    <tr>\n",
       "      <th>count</th>\n",
       "      <td>13593.000000</td>\n",
       "      <td>9148.000000</td>\n",
       "      <td>9144.000000</td>\n",
       "      <td>9144.000000</td>\n",
       "      <td>9144.000000</td>\n",
       "      <td>13593.000000</td>\n",
       "      <td>13593.000000</td>\n",
       "      <td>9148.000000</td>\n",
       "      <td>13241.000000</td>\n",
       "      <td>13593.000000</td>\n",
       "    </tr>\n",
       "    <tr>\n",
       "      <th>mean</th>\n",
       "      <td>6216.526595</td>\n",
       "      <td>1.025907</td>\n",
       "      <td>1.494532</td>\n",
       "      <td>6.653762</td>\n",
       "      <td>26.249453</td>\n",
       "      <td>29.531229</td>\n",
       "      <td>1.763996</td>\n",
       "      <td>1.824552</td>\n",
       "      <td>24.230949</td>\n",
       "      <td>8196.422280</td>\n",
       "    </tr>\n",
       "    <tr>\n",
       "      <th>std</th>\n",
       "      <td>3645.417341</td>\n",
       "      <td>0.252864</td>\n",
       "      <td>0.515295</td>\n",
       "      <td>1.588809</td>\n",
       "      <td>29.371073</td>\n",
       "      <td>13.802523</td>\n",
       "      <td>1.315930</td>\n",
       "      <td>1.037053</td>\n",
       "      <td>5.824302</td>\n",
       "      <td>9325.918114</td>\n",
       "    </tr>\n",
       "    <tr>\n",
       "      <th>min</th>\n",
       "      <td>1.000000</td>\n",
       "      <td>1.000000</td>\n",
       "      <td>1.000000</td>\n",
       "      <td>0.000000</td>\n",
       "      <td>0.000000</td>\n",
       "      <td>0.000000</td>\n",
       "      <td>1.000000</td>\n",
       "      <td>0.000000</td>\n",
       "      <td>10.000000</td>\n",
       "      <td>118.656790</td>\n",
       "    </tr>\n",
       "    <tr>\n",
       "      <th>25%</th>\n",
       "      <td>3022.000000</td>\n",
       "      <td>1.000000</td>\n",
       "      <td>1.000000</td>\n",
       "      <td>6.000000</td>\n",
       "      <td>7.000000</td>\n",
       "      <td>13.000000</td>\n",
       "      <td>1.000000</td>\n",
       "      <td>1.000000</td>\n",
       "      <td>20.000000</td>\n",
       "      <td>3841.375308</td>\n",
       "    </tr>\n",
       "    <tr>\n",
       "      <th>50%</th>\n",
       "      <td>6161.000000</td>\n",
       "      <td>1.000000</td>\n",
       "      <td>1.000000</td>\n",
       "      <td>7.000000</td>\n",
       "      <td>8.000000</td>\n",
       "      <td>39.000000</td>\n",
       "      <td>1.000000</td>\n",
       "      <td>2.000000</td>\n",
       "      <td>23.000000</td>\n",
       "      <td>6256.592133</td>\n",
       "    </tr>\n",
       "    <tr>\n",
       "      <th>75%</th>\n",
       "      <td>9423.000000</td>\n",
       "      <td>1.000000</td>\n",
       "      <td>2.000000</td>\n",
       "      <td>8.000000</td>\n",
       "      <td>61.000000</td>\n",
       "      <td>39.000000</td>\n",
       "      <td>2.000000</td>\n",
       "      <td>2.000000</td>\n",
       "      <td>28.000000</td>\n",
       "      <td>9432.360931</td>\n",
       "    </tr>\n",
       "    <tr>\n",
       "      <th>max</th>\n",
       "      <td>12571.000000</td>\n",
       "      <td>9.000000</td>\n",
       "      <td>9.000000</td>\n",
       "      <td>9.000000</td>\n",
       "      <td>99.000000</td>\n",
       "      <td>50.000000</td>\n",
       "      <td>6.000000</td>\n",
       "      <td>9.000000</td>\n",
       "      <td>44.000000</td>\n",
       "      <td>261879.953864</td>\n",
       "    </tr>\n",
       "  </tbody>\n",
       "</table>\n",
       "</div>"
      ],
      "text/plain": [
       "             caseid     nbrnaliv      babysex  birthwgt_lb  birthwgt_oz  \\\n",
       "count  13593.000000  9148.000000  9144.000000  9144.000000  9144.000000   \n",
       "mean    6216.526595     1.025907     1.494532     6.653762    26.249453   \n",
       "std     3645.417341     0.252864     0.515295     1.588809    29.371073   \n",
       "min        1.000000     1.000000     1.000000     0.000000     0.000000   \n",
       "25%     3022.000000     1.000000     1.000000     6.000000     7.000000   \n",
       "50%     6161.000000     1.000000     1.000000     7.000000     8.000000   \n",
       "75%     9423.000000     1.000000     2.000000     8.000000    61.000000   \n",
       "max    12571.000000     9.000000     9.000000     9.000000    99.000000   \n",
       "\n",
       "          prglength       outcome     birthord       agepreg       finalwgt  \n",
       "count  13593.000000  13593.000000  9148.000000  13241.000000   13593.000000  \n",
       "mean      29.531229      1.763996     1.824552     24.230949    8196.422280  \n",
       "std       13.802523      1.315930     1.037053      5.824302    9325.918114  \n",
       "min        0.000000      1.000000     0.000000     10.000000     118.656790  \n",
       "25%       13.000000      1.000000     1.000000     20.000000    3841.375308  \n",
       "50%       39.000000      1.000000     2.000000     23.000000    6256.592133  \n",
       "75%       39.000000      2.000000     2.000000     28.000000    9432.360931  \n",
       "max       50.000000      6.000000     9.000000     44.000000  261879.953864  "
      ]
     },
     "execution_count": 3,
     "metadata": {},
     "output_type": "execute_result"
    }
   ],
   "source": [
    "pregnancies.describe()"
   ]
  },
  {
   "cell_type": "code",
   "execution_count": 4,
   "metadata": {},
   "outputs": [
    {
     "name": "stdout",
     "output_type": "stream",
     "text": [
      "Number of live births is: 9148\n",
      "Mean Pregnancy length for live births of first babies is: 38.6009517335\n",
      "Mean Pregnancy length for live births of other babies is: 38.5229144667\n",
      "Difference in Mean Pregnancy length for first and other babies is : 0.0780372667775\n"
     ]
    }
   ],
   "source": [
    "live_births = pregnancies[pregnancies['outcome'] == 1]\n",
    "print(\"Number of live births is: \" + str(live_births.shape[0]))\n",
    "mean_first = live_births[live_births['birthord'] == 1]['prglength'].mean()\n",
    "mean_other = live_births[live_births['birthord'] != 1]['prglength'].mean()\n",
    "print(\"Mean Pregnancy length for live births of first babies is: \" + str(mean_first))\n",
    "print(\"Mean Pregnancy length for live births of other babies is: \" + str(mean_other))\n",
    "print(\"Difference in Mean Pregnancy length for first and other babies is : \" + str(mean_first - mean_other))"
   ]
  },
  {
   "cell_type": "markdown",
   "metadata": {},
   "source": [
    "### 1.5 Significance"
   ]
  },
  {
   "cell_type": "markdown",
   "metadata": {},
   "source": [
    "From the above analysis, it is evident that the difference in mean pregnancy lengths of first and other babies is <b>13.11 hours</b>. A difference like this is called an <b>apparent effect</b> which means that there must be something going on but we are not sure yet. If the difference occurred by chance, we can conlcude that thet effect was not <b>statistically significant</b>. An apparent effect that is caused by bias, measurement error, or\n",
    "some other kind of error is called <b>artifact</b>."
   ]
  }
 ],
 "metadata": {
  "kernelspec": {
   "display_name": "Python 3",
   "language": "python",
   "name": "python3"
  },
  "language_info": {
   "codemirror_mode": {
    "name": "ipython",
    "version": 3
   },
   "file_extension": ".py",
   "mimetype": "text/x-python",
   "name": "python",
   "nbconvert_exporter": "python",
   "pygments_lexer": "ipython3",
   "version": "3.6.4"
  }
 },
 "nbformat": 4,
 "nbformat_minor": 2
}
